{
  "nbformat": 4,
  "nbformat_minor": 0,
  "metadata": {
    "colab": {
      "provenance": [],
      "authorship_tag": "ABX9TyMCFJVhFj4XNyPqNEZloVCr",
      "include_colab_link": true
    },
    "kernelspec": {
      "name": "python3",
      "display_name": "Python 3"
    },
    "language_info": {
      "name": "python"
    }
  },
  "cells": [
    {
      "cell_type": "markdown",
      "metadata": {
        "id": "view-in-github",
        "colab_type": "text"
      },
      "source": [
        "<a href=\"https://colab.research.google.com/github/dawninwest/news-content-analysis/blob/main/Untitled0.ipynb\" target=\"_parent\"><img src=\"https://colab.research.google.com/assets/colab-badge.svg\" alt=\"Open In Colab\"/></a>"
      ]
    },
    {
      "cell_type": "code",
      "execution_count": 1,
      "metadata": {
        "colab": {
          "base_uri": "https://localhost:8080/"
        },
        "id": "cDcgVISvZ7yI",
        "outputId": "cfc4f3a0-3fa8-49eb-ff74-ce7b38c440c2"
      },
      "outputs": [
        {
          "output_type": "stream",
          "name": "stdout",
          "text": [
            "['台北市中山區某商旅今午發生墜樓案，年約50歲嚴姓女子從11樓房間陽台墜落1樓地面，送醫不治，據悉女子生前曾因投資失利向家人借錢，也曾揚言輕生，未料今午發生憾事，檢警已介入調查並相驗。 \\r 台北市消防局表示，今午12時19分獲報，中山區林森北路某商旅有民眾墜樓，救護人員到場急救，將傷者送往台大醫院救治，傷者仍於到院前失去呼吸心跳。            \\r 警方調查，房務人員中午發現嚴女獨自待在11樓房間陽台，從旁邊窗口勸說嚴女別想不開，嚴女仍向外墜落1樓。 \\r 據悉，嚴女將寫有個人資料的紙條放在衣物口袋中，入住的房間內也留有紙條，透露因投資失利有輕生念頭。 \\r 家屬獲悉後表示，家人多在海外生活，嚴女因投資失利缺錢花用，曾向家人開口要錢，甚至揚言輕生，沒想到今天真的發生憾事。  ★珍惜生命，若您或身邊的人有心理困擾，可撥打安心專線：1925｜生命線協談專線：1995｜張老師專線：1980    房間 家人 紙條', '台南市南區的萬年五街一水產店下午1時許稍早發生槍擊案，一名歹徒開車抵門前，下車後持步槍掃下車後朝店家開了20多槍，台南市警六分局員警獲報趕到現場，立即展開反擊，朝歹徒開了3槍，其中2槍射中歹徒臀部，後送成大醫院急救。警方指出，歹徒身分及動機仍在釐清當中。台南市南區的萬年五街一水產店下午1時許稍早發生槍擊案，一名歹徒開車抵門前，下車後持步槍掃下車後朝店家開了20多槍。圖／讀者提供台南市警六分局員警獲報趕到現場，立即展開反擊，朝歹徒開了3槍，其中2槍射中歹徒臀部，後送成大醫院急救。圖／讀者提供    台南 槍擊', '民眾到ATM領錢，當吐完鈔後就要立刻做好「點鈔」的行為，否則事後難以釐清責任歸屬。一名苦主就抱怨，近日操作2次ATM，共領了4萬元現鈔，機器一吐完鈔她就直接放入皮夾，事後返家要拿錢給他人時，才發現只有3萬5而已，怎料向銀行申訴後也拿不到任何賠償，讓她相當傻眼。 \\r 該名女網友在臉書社團《爆料公社公開版》表示，她週2(5/30)到超商ATM領錢，但礙於一次最高只能領2萬，她便分開領了2次2萬，當機器吐完鈔後隨即放入皮夾，接著就騎車回家，沒想到回家後點鈔卻發現有短少。            \\r 原po表示，正常來說要有4萬元整，但回到社區要給別人錢時，「怎麼數就是35000元，ATM少給了我5000塊！」。但更令她崩潰的是，她向銀行申訴後，得到的回答竟是「沒有溢款」，代表不會賠償的意思，讓她傻眼質問「那我的5000塊哪去了？」。 \\r 原po只好無奈發文求助，「銀行會還我嗎？我到底該怎麼辦，我要找回我的錢...以後誰還敢去便利店的ATM領錢？」。 \\r 文章曝光，引發網友熱議，「我也有遇過領完少1千還2千，當下打提款機上面的電話通報，後來他們清點後有還我」、「1.有些老舊機型會掉進機器背後夾層，維修工程師拆開才會找到，客服查系統沒用，帳一定吻合2.路上掉錢被撿走，你沒發現」、「之前也有過新聞，跟妳一樣的情況，人家報警叫銀行來拆機器！果真錢在機器的縫隙裡」。 \\r 不少人也勸她，之後在攝影機前要做「點鈔」的步驟才能自保，「我就連領五千都會點鈔，看看會不會多個幾張」、「你在拿到錢的當下，就要在ATM的攝影機前每一張分開的數清楚」、「領完就是當ATM面前數一次正確在離開，別說短少以前還有同事在郵局的ATM領到假鈔過」。    鈔票 ATM 超商', '繼承五億房產賴姓高中生墜樓案至今無解，今外傳賴遺體手臂上發現4個不明針孔，賴母懷疑兒子生前遭人下毒，對此賴母委任律師許哲維今下午赴台中地檢署遞狀，再聲請8項調查證據，但就賴身上究竟有無針孔，許未正面回應表示不方便談論。 \\r 媒體問到，賴姓高中生身上是否有針孔？許哲維表示，對於該消息來源他不清楚，身上是否有針孔他目前不便談論，但如有相關跡證的話都有聲請檢察官調查。            \\r 另就今媒體報導稱夏姓嫌疑人的哥哥於案發前也在場，許哲維表示，現階段不宜魯莽指控夏的哥哥涉案，這樣恐太過粗魯。 \\r 還有時事評論家稱高中生留下的5億財產恐引起黑道覬覦，賴母是否感到擔心？許哲維說，他們有請台中第5分局警方幫他們設立1個臨時巡邏點，原因出於賴母會擔心各種人身安全。 \\r 許也提到，夏男從案發至今都沒有和賴母聯繫或赴靈堂上香，除了有發律師函說不還權狀外，都沒有其餘任何接觸律師許哲維。記者曾健祐／攝影    律師 黑道 房產 高中生']\n"
          ]
        }
      ],
      "source": [
        "import requests\n",
        "from bs4 import BeautifulSoup\n",
        "\n",
        "response=requests.get('https://udn.com/news/breaknews/1')\n",
        "soup = BeautifulSoup(response.text)\n",
        "\n",
        "\n",
        "news=[]\n",
        "\n",
        "\n",
        "for link in soup.find_all('h3', class_='rounded-thumb__title')[:4]:\n",
        "  news_url = link.a['href']\n",
        "  news_response = requests.get('https://udn.com' + news_url)\n",
        "  news_soup = BeautifulSoup(news_response.text)\n",
        "  news_content = news_soup.find('div', class_='article-content__paragraph').text.strip().replace('\\n', ' ')\n",
        "  news.append(news_content)\n",
        "  \n",
        "print(news)"
      ]
    }
  ]
}